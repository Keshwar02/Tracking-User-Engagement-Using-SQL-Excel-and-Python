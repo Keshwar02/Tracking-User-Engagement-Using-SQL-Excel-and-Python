{
 "cells": [
  {
   "cell_type": "markdown",
   "id": "678b87bd-609f-4165-b73d-40cf4f8d2d62",
   "metadata": {},
   "source": [
    "### Data Preprocessing with Python - Removing Outliers"
   ]
  },
  {
   "cell_type": "markdown",
   "id": "185b9bfe-3504-4b62-8ead-d7e2c7159140",
   "metadata": {
    "jp-MarkdownHeadingCollapsed": true
   },
   "source": [
    "#### Importing relevant libraries"
   ]
  },
  {
   "cell_type": "code",
   "execution_count": 3,
   "id": "b96d657d-8468-4491-8f2a-76361263403c",
   "metadata": {},
   "outputs": [],
   "source": [
    "import numpy as np\n",
    "import pandas as pd\n",
    "import matplotlib.pyplot as plt\n",
    "import seaborn as sns\n",
    "sns.set()"
   ]
  },
  {
   "cell_type": "markdown",
   "id": "651d85c6-18bd-4920-a194-eb57c18e9acf",
   "metadata": {
    "jp-MarkdownHeadingCollapsed": true
   },
   "source": [
    "#### Reading Data"
   ]
  },
  {
   "cell_type": "code",
   "execution_count": 5,
   "id": "7bbf5c21-0d44-461b-9f44-fcc760ba2d57",
   "metadata": {},
   "outputs": [],
   "source": [
    "df1 = pd.read_csv('minutes_watched_2021_paid_0.csv')\n",
    "df2 = pd.read_csv('minutes_watched_2022_paid_0.csv')\n",
    "df3 = pd.read_csv('minutes_watched_2021_paid_1.csv')\n",
    "df4 = pd.read_csv('minutes_watched_2022_paid_1.csv')"
   ]
  },
  {
   "cell_type": "markdown",
   "id": "a54fb6ef-04bd-451b-b0a0-dec0fd127e3b",
   "metadata": {
    "jp-MarkdownHeadingCollapsed": true
   },
   "source": [
    "#### Initail data exploration"
   ]
  },
  {
   "cell_type": "code",
   "execution_count": 7,
   "id": "ed907c33-8078-4040-89b0-40bf1fca5282",
   "metadata": {},
   "outputs": [
    {
     "data": {
      "text/html": [
       "<div>\n",
       "<style scoped>\n",
       "    .dataframe tbody tr th:only-of-type {\n",
       "        vertical-align: middle;\n",
       "    }\n",
       "\n",
       "    .dataframe tbody tr th {\n",
       "        vertical-align: top;\n",
       "    }\n",
       "\n",
       "    .dataframe thead th {\n",
       "        text-align: right;\n",
       "    }\n",
       "</style>\n",
       "<table border=\"1\" class=\"dataframe\">\n",
       "  <thead>\n",
       "    <tr style=\"text-align: right;\">\n",
       "      <th></th>\n",
       "      <th>student_id</th>\n",
       "      <th>minutes_watched</th>\n",
       "      <th>paid_in_q2_2021</th>\n",
       "    </tr>\n",
       "  </thead>\n",
       "  <tbody>\n",
       "    <tr>\n",
       "      <th>0</th>\n",
       "      <td>767</td>\n",
       "      <td>0.05</td>\n",
       "      <td>0</td>\n",
       "    </tr>\n",
       "    <tr>\n",
       "      <th>1</th>\n",
       "      <td>902</td>\n",
       "      <td>34.62</td>\n",
       "      <td>0</td>\n",
       "    </tr>\n",
       "    <tr>\n",
       "      <th>2</th>\n",
       "      <td>1067</td>\n",
       "      <td>0.27</td>\n",
       "      <td>0</td>\n",
       "    </tr>\n",
       "    <tr>\n",
       "      <th>3</th>\n",
       "      <td>1151</td>\n",
       "      <td>122.35</td>\n",
       "      <td>0</td>\n",
       "    </tr>\n",
       "    <tr>\n",
       "      <th>4</th>\n",
       "      <td>1395</td>\n",
       "      <td>133.52</td>\n",
       "      <td>0</td>\n",
       "    </tr>\n",
       "    <tr>\n",
       "      <th>...</th>\n",
       "      <td>...</td>\n",
       "      <td>...</td>\n",
       "      <td>...</td>\n",
       "    </tr>\n",
       "    <tr>\n",
       "      <th>5329</th>\n",
       "      <td>158745</td>\n",
       "      <td>0.15</td>\n",
       "      <td>0</td>\n",
       "    </tr>\n",
       "    <tr>\n",
       "      <th>5330</th>\n",
       "      <td>158749</td>\n",
       "      <td>10.95</td>\n",
       "      <td>0</td>\n",
       "    </tr>\n",
       "    <tr>\n",
       "      <th>5331</th>\n",
       "      <td>158750</td>\n",
       "      <td>0.37</td>\n",
       "      <td>0</td>\n",
       "    </tr>\n",
       "    <tr>\n",
       "      <th>5332</th>\n",
       "      <td>158754</td>\n",
       "      <td>5.47</td>\n",
       "      <td>0</td>\n",
       "    </tr>\n",
       "    <tr>\n",
       "      <th>5333</th>\n",
       "      <td>158762</td>\n",
       "      <td>0.05</td>\n",
       "      <td>0</td>\n",
       "    </tr>\n",
       "  </tbody>\n",
       "</table>\n",
       "<p>5334 rows × 3 columns</p>\n",
       "</div>"
      ],
      "text/plain": [
       "      student_id  minutes_watched  paid_in_q2_2021\n",
       "0            767             0.05                0\n",
       "1            902            34.62                0\n",
       "2           1067             0.27                0\n",
       "3           1151           122.35                0\n",
       "4           1395           133.52                0\n",
       "...          ...              ...              ...\n",
       "5329      158745             0.15                0\n",
       "5330      158749            10.95                0\n",
       "5331      158750             0.37                0\n",
       "5332      158754             5.47                0\n",
       "5333      158762             0.05                0\n",
       "\n",
       "[5334 rows x 3 columns]"
      ]
     },
     "execution_count": 7,
     "metadata": {},
     "output_type": "execute_result"
    }
   ],
   "source": [
    "df1"
   ]
  },
  {
   "cell_type": "code",
   "execution_count": 8,
   "id": "4993b24f-31cd-469b-bf1c-87796d32e4a4",
   "metadata": {},
   "outputs": [
    {
     "data": {
      "text/plain": [
       "count    5334.000000\n",
       "mean       18.519818\n",
       "std        59.230376\n",
       "min         0.030000\n",
       "25%         0.430000\n",
       "50%         2.900000\n",
       "75%        16.620000\n",
       "max      1577.520000\n",
       "Name: minutes_watched, dtype: float64"
      ]
     },
     "execution_count": 8,
     "metadata": {},
     "output_type": "execute_result"
    }
   ],
   "source": [
    "df1.minutes_watched.describe()"
   ]
  },
  {
   "cell_type": "code",
   "execution_count": 9,
   "id": "7984afda-aaaf-4363-84cb-b1496cf34fd0",
   "metadata": {},
   "outputs": [
    {
     "data": {
      "text/html": [
       "<div>\n",
       "<style scoped>\n",
       "    .dataframe tbody tr th:only-of-type {\n",
       "        vertical-align: middle;\n",
       "    }\n",
       "\n",
       "    .dataframe tbody tr th {\n",
       "        vertical-align: top;\n",
       "    }\n",
       "\n",
       "    .dataframe thead th {\n",
       "        text-align: right;\n",
       "    }\n",
       "</style>\n",
       "<table border=\"1\" class=\"dataframe\">\n",
       "  <thead>\n",
       "    <tr style=\"text-align: right;\">\n",
       "      <th></th>\n",
       "      <th>student_id</th>\n",
       "      <th>minutes_watched</th>\n",
       "      <th>paid_in_q2_2022</th>\n",
       "    </tr>\n",
       "  </thead>\n",
       "  <tbody>\n",
       "    <tr>\n",
       "      <th>0</th>\n",
       "      <td>389</td>\n",
       "      <td>0.15</td>\n",
       "      <td>0</td>\n",
       "    </tr>\n",
       "    <tr>\n",
       "      <th>1</th>\n",
       "      <td>666</td>\n",
       "      <td>2.83</td>\n",
       "      <td>0</td>\n",
       "    </tr>\n",
       "    <tr>\n",
       "      <th>2</th>\n",
       "      <td>801</td>\n",
       "      <td>5732.58</td>\n",
       "      <td>0</td>\n",
       "    </tr>\n",
       "    <tr>\n",
       "      <th>3</th>\n",
       "      <td>875</td>\n",
       "      <td>46.77</td>\n",
       "      <td>0</td>\n",
       "    </tr>\n",
       "    <tr>\n",
       "      <th>4</th>\n",
       "      <td>1357</td>\n",
       "      <td>0.12</td>\n",
       "      <td>0</td>\n",
       "    </tr>\n",
       "    <tr>\n",
       "      <th>...</th>\n",
       "      <td>...</td>\n",
       "      <td>...</td>\n",
       "      <td>...</td>\n",
       "    </tr>\n",
       "    <tr>\n",
       "      <th>6050</th>\n",
       "      <td>279813</td>\n",
       "      <td>0.28</td>\n",
       "      <td>0</td>\n",
       "    </tr>\n",
       "    <tr>\n",
       "      <th>6051</th>\n",
       "      <td>279825</td>\n",
       "      <td>0.25</td>\n",
       "      <td>0</td>\n",
       "    </tr>\n",
       "    <tr>\n",
       "      <th>6052</th>\n",
       "      <td>279852</td>\n",
       "      <td>1.75</td>\n",
       "      <td>0</td>\n",
       "    </tr>\n",
       "    <tr>\n",
       "      <th>6053</th>\n",
       "      <td>279870</td>\n",
       "      <td>0.38</td>\n",
       "      <td>0</td>\n",
       "    </tr>\n",
       "    <tr>\n",
       "      <th>6054</th>\n",
       "      <td>279871</td>\n",
       "      <td>0.12</td>\n",
       "      <td>0</td>\n",
       "    </tr>\n",
       "  </tbody>\n",
       "</table>\n",
       "<p>6055 rows × 3 columns</p>\n",
       "</div>"
      ],
      "text/plain": [
       "      student_id  minutes_watched  paid_in_q2_2022\n",
       "0            389             0.15                0\n",
       "1            666             2.83                0\n",
       "2            801          5732.58                0\n",
       "3            875            46.77                0\n",
       "4           1357             0.12                0\n",
       "...          ...              ...              ...\n",
       "6050      279813             0.28                0\n",
       "6051      279825             0.25                0\n",
       "6052      279852             1.75                0\n",
       "6053      279870             0.38                0\n",
       "6054      279871             0.12                0\n",
       "\n",
       "[6055 rows x 3 columns]"
      ]
     },
     "execution_count": 9,
     "metadata": {},
     "output_type": "execute_result"
    }
   ],
   "source": [
    "df2"
   ]
  },
  {
   "cell_type": "code",
   "execution_count": 10,
   "id": "3784769a-3135-4ad2-998c-3bc5ca063205",
   "metadata": {},
   "outputs": [
    {
     "data": {
      "text/plain": [
       "count    6055.000000\n",
       "mean       20.124756\n",
       "std        85.892006\n",
       "min         0.030000\n",
       "25%         0.860000\n",
       "50%         5.120000\n",
       "75%        22.150000\n",
       "max      5732.580000\n",
       "Name: minutes_watched, dtype: float64"
      ]
     },
     "execution_count": 10,
     "metadata": {},
     "output_type": "execute_result"
    }
   ],
   "source": [
    "df2.minutes_watched.describe()"
   ]
  },
  {
   "cell_type": "code",
   "execution_count": 11,
   "id": "db3d830b-0a24-4322-9383-d3cfd3fc8965",
   "metadata": {},
   "outputs": [
    {
     "data": {
      "text/html": [
       "<div>\n",
       "<style scoped>\n",
       "    .dataframe tbody tr th:only-of-type {\n",
       "        vertical-align: middle;\n",
       "    }\n",
       "\n",
       "    .dataframe tbody tr th {\n",
       "        vertical-align: top;\n",
       "    }\n",
       "\n",
       "    .dataframe thead th {\n",
       "        text-align: right;\n",
       "    }\n",
       "</style>\n",
       "<table border=\"1\" class=\"dataframe\">\n",
       "  <thead>\n",
       "    <tr style=\"text-align: right;\">\n",
       "      <th></th>\n",
       "      <th>student_id</th>\n",
       "      <th>minutes_watched</th>\n",
       "      <th>paid_in_q2_2021</th>\n",
       "    </tr>\n",
       "  </thead>\n",
       "  <tbody>\n",
       "    <tr>\n",
       "      <th>0</th>\n",
       "      <td>6</td>\n",
       "      <td>81.03</td>\n",
       "      <td>1</td>\n",
       "    </tr>\n",
       "    <tr>\n",
       "      <th>1</th>\n",
       "      <td>516</td>\n",
       "      <td>46.27</td>\n",
       "      <td>1</td>\n",
       "    </tr>\n",
       "    <tr>\n",
       "      <th>2</th>\n",
       "      <td>520</td>\n",
       "      <td>91.18</td>\n",
       "      <td>1</td>\n",
       "    </tr>\n",
       "    <tr>\n",
       "      <th>3</th>\n",
       "      <td>523</td>\n",
       "      <td>1322.25</td>\n",
       "      <td>1</td>\n",
       "    </tr>\n",
       "    <tr>\n",
       "      <th>4</th>\n",
       "      <td>594</td>\n",
       "      <td>3.73</td>\n",
       "      <td>1</td>\n",
       "    </tr>\n",
       "    <tr>\n",
       "      <th>...</th>\n",
       "      <td>...</td>\n",
       "      <td>...</td>\n",
       "      <td>...</td>\n",
       "    </tr>\n",
       "    <tr>\n",
       "      <th>2300</th>\n",
       "      <td>158205</td>\n",
       "      <td>275.27</td>\n",
       "      <td>1</td>\n",
       "    </tr>\n",
       "    <tr>\n",
       "      <th>2301</th>\n",
       "      <td>158260</td>\n",
       "      <td>132.95</td>\n",
       "      <td>1</td>\n",
       "    </tr>\n",
       "    <tr>\n",
       "      <th>2302</th>\n",
       "      <td>158413</td>\n",
       "      <td>19.60</td>\n",
       "      <td>1</td>\n",
       "    </tr>\n",
       "    <tr>\n",
       "      <th>2303</th>\n",
       "      <td>158482</td>\n",
       "      <td>0.45</td>\n",
       "      <td>1</td>\n",
       "    </tr>\n",
       "    <tr>\n",
       "      <th>2304</th>\n",
       "      <td>158706</td>\n",
       "      <td>3.02</td>\n",
       "      <td>1</td>\n",
       "    </tr>\n",
       "  </tbody>\n",
       "</table>\n",
       "<p>2305 rows × 3 columns</p>\n",
       "</div>"
      ],
      "text/plain": [
       "      student_id  minutes_watched  paid_in_q2_2021\n",
       "0              6            81.03                1\n",
       "1            516            46.27                1\n",
       "2            520            91.18                1\n",
       "3            523          1322.25                1\n",
       "4            594             3.73                1\n",
       "...          ...              ...              ...\n",
       "2300      158205           275.27                1\n",
       "2301      158260           132.95                1\n",
       "2302      158413            19.60                1\n",
       "2303      158482             0.45                1\n",
       "2304      158706             3.02                1\n",
       "\n",
       "[2305 rows x 3 columns]"
      ]
     },
     "execution_count": 11,
     "metadata": {},
     "output_type": "execute_result"
    }
   ],
   "source": [
    "df3"
   ]
  },
  {
   "cell_type": "code",
   "execution_count": 12,
   "id": "7501d359-f0fb-4e8a-b59b-2fb29894c919",
   "metadata": {},
   "outputs": [
    {
     "data": {
      "text/plain": [
       "count     2305.000000\n",
       "mean       415.395328\n",
       "std        772.214146\n",
       "min          0.050000\n",
       "25%         33.000000\n",
       "50%        165.580000\n",
       "75%        499.520000\n",
       "max      14334.330000\n",
       "Name: minutes_watched, dtype: float64"
      ]
     },
     "execution_count": 12,
     "metadata": {},
     "output_type": "execute_result"
    }
   ],
   "source": [
    "df3.minutes_watched.describe()"
   ]
  },
  {
   "cell_type": "code",
   "execution_count": 13,
   "id": "a49bb574-873f-42aa-b266-d846593e3343",
   "metadata": {},
   "outputs": [
    {
     "data": {
      "text/html": [
       "<div>\n",
       "<style scoped>\n",
       "    .dataframe tbody tr th:only-of-type {\n",
       "        vertical-align: middle;\n",
       "    }\n",
       "\n",
       "    .dataframe tbody tr th {\n",
       "        vertical-align: top;\n",
       "    }\n",
       "\n",
       "    .dataframe thead th {\n",
       "        text-align: right;\n",
       "    }\n",
       "</style>\n",
       "<table border=\"1\" class=\"dataframe\">\n",
       "  <thead>\n",
       "    <tr style=\"text-align: right;\">\n",
       "      <th></th>\n",
       "      <th>student_id</th>\n",
       "      <th>minutes_watched</th>\n",
       "      <th>paid_in_q2_2022</th>\n",
       "    </tr>\n",
       "  </thead>\n",
       "  <tbody>\n",
       "    <tr>\n",
       "      <th>0</th>\n",
       "      <td>6</td>\n",
       "      <td>67.08</td>\n",
       "      <td>1</td>\n",
       "    </tr>\n",
       "    <tr>\n",
       "      <th>1</th>\n",
       "      <td>616</td>\n",
       "      <td>116.02</td>\n",
       "      <td>1</td>\n",
       "    </tr>\n",
       "    <tr>\n",
       "      <th>2</th>\n",
       "      <td>618</td>\n",
       "      <td>238.15</td>\n",
       "      <td>1</td>\n",
       "    </tr>\n",
       "    <tr>\n",
       "      <th>3</th>\n",
       "      <td>699</td>\n",
       "      <td>222.35</td>\n",
       "      <td>1</td>\n",
       "    </tr>\n",
       "    <tr>\n",
       "      <th>4</th>\n",
       "      <td>702</td>\n",
       "      <td>1.60</td>\n",
       "      <td>1</td>\n",
       "    </tr>\n",
       "    <tr>\n",
       "      <th>...</th>\n",
       "      <td>...</td>\n",
       "      <td>...</td>\n",
       "      <td>...</td>\n",
       "    </tr>\n",
       "    <tr>\n",
       "      <th>2781</th>\n",
       "      <td>278995</td>\n",
       "      <td>67.40</td>\n",
       "      <td>1</td>\n",
       "    </tr>\n",
       "    <tr>\n",
       "      <th>2782</th>\n",
       "      <td>279264</td>\n",
       "      <td>202.50</td>\n",
       "      <td>1</td>\n",
       "    </tr>\n",
       "    <tr>\n",
       "      <th>2783</th>\n",
       "      <td>279519</td>\n",
       "      <td>184.20</td>\n",
       "      <td>1</td>\n",
       "    </tr>\n",
       "    <tr>\n",
       "      <th>2784</th>\n",
       "      <td>279625</td>\n",
       "      <td>50.78</td>\n",
       "      <td>1</td>\n",
       "    </tr>\n",
       "    <tr>\n",
       "      <th>2785</th>\n",
       "      <td>279748</td>\n",
       "      <td>30.73</td>\n",
       "      <td>1</td>\n",
       "    </tr>\n",
       "  </tbody>\n",
       "</table>\n",
       "<p>2786 rows × 3 columns</p>\n",
       "</div>"
      ],
      "text/plain": [
       "      student_id  minutes_watched  paid_in_q2_2022\n",
       "0              6            67.08                1\n",
       "1            616           116.02                1\n",
       "2            618           238.15                1\n",
       "3            699           222.35                1\n",
       "4            702             1.60                1\n",
       "...          ...              ...              ...\n",
       "2781      278995            67.40                1\n",
       "2782      279264           202.50                1\n",
       "2783      279519           184.20                1\n",
       "2784      279625            50.78                1\n",
       "2785      279748            30.73                1\n",
       "\n",
       "[2786 rows x 3 columns]"
      ]
     },
     "execution_count": 13,
     "metadata": {},
     "output_type": "execute_result"
    }
   ],
   "source": [
    "df4"
   ]
  },
  {
   "cell_type": "code",
   "execution_count": 14,
   "id": "b55fe85d-4760-47a4-8b3c-c1f94f51f88b",
   "metadata": {},
   "outputs": [
    {
     "data": {
      "text/plain": [
       "count    2786.000000\n",
       "mean      325.486536\n",
       "std       544.856501\n",
       "min         0.050000\n",
       "25%        30.307500\n",
       "50%       122.925000\n",
       "75%       389.445000\n",
       "max      6464.820000\n",
       "Name: minutes_watched, dtype: float64"
      ]
     },
     "execution_count": 14,
     "metadata": {},
     "output_type": "execute_result"
    }
   ],
   "source": [
    "df4.minutes_watched.describe()"
   ]
  },
  {
   "cell_type": "markdown",
   "id": "88fe5010-6f15-4a2c-b04f-ff9d80329618",
   "metadata": {
    "jp-MarkdownHeadingCollapsed": true
   },
   "source": [
    "#### Plotting the Distributions"
   ]
  },
  {
   "cell_type": "code",
   "execution_count": 16,
   "id": "580b37e3-45a9-4379-b232-db1e6dfbb732",
   "metadata": {},
   "outputs": [
    {
     "data": {
      "image/png": "[encoded data removed]",
      "text/plain": [
       "<Figure size 1200x800 with 4 Axes>"
      ]
     },
     "metadata": {},
     "output_type": "display_data"
    }
   ],
   "source": [
    "fig,axes = plt.subplots(2,2,figsize=(12,8))\n",
    "\n",
    "sns.kdeplot(df1.minutes_watched,fill=True,ax=axes[0,0])\n",
    "axes[0,0].set_title('Free-Plan Students for Q2 2021')\n",
    "\n",
    "sns.kdeplot(df2.minutes_watched,fill=True,ax=axes[0,1])\n",
    "axes[0,1].set_title('Free-Plan Students for Q2 2022')\n",
    "\n",
    "sns.kdeplot(df3.minutes_watched,fill=True,ax=axes[1,0])\n",
    "axes[1,0].set_title('Paying Students for Q2 2021')\n",
    "\n",
    "sns.kdeplot(df4.minutes_watched,fill=True,ax=axes[1,1])\n",
    "axes[1,1].set_title('Paying Students for Q2 2022')\n",
    "\n",
    "fig.tight_layout(pad=3.0)\n",
    "plt.show()"
   ]
  },
  {
   "cell_type": "markdown",
   "id": "05f65b62-f3bc-4b89-a265-bb34851242b3",
   "metadata": {
    "jp-MarkdownHeadingCollapsed": true
   },
   "source": [
    "#### Checking for outliers"
   ]
  },
  {
   "cell_type": "code",
   "execution_count": 18,
   "id": "1859b0ca-ff4f-41a5-8743-863d455e1a3b",
   "metadata": {},
   "outputs": [
    {
     "data": {
      "text/plain": [
       "167.08470000000017"
      ]
     },
     "execution_count": 18,
     "metadata": {},
     "output_type": "execute_result"
    }
   ],
   "source": [
    "df1_99_quantile = df1.minutes_watched.quantile(.99)\n",
    "df1_99_quantile"
   ]
  },
  {
   "cell_type": "code",
   "execution_count": 19,
   "id": "63472707-8cb9-4f4c-bace-2f95835ea419",
   "metadata": {},
   "outputs": [
    {
     "data": {
      "text/plain": [
       "170.26300000000015"
      ]
     },
     "execution_count": 19,
     "metadata": {},
     "output_type": "execute_result"
    }
   ],
   "source": [
    "df2_99_quantile = df2.minutes_watched.quantile(.99)\n",
    "df2_99_quantile"
   ]
  },
  {
   "cell_type": "code",
   "execution_count": 20,
   "id": "4f1de276-36be-432f-b117-52974c2f5226",
   "metadata": {},
   "outputs": [
    {
     "data": {
      "text/plain": [
       "3390.482800000001"
      ]
     },
     "execution_count": 20,
     "metadata": {},
     "output_type": "execute_result"
    }
   ],
   "source": [
    "df3_99_quantile = df3.minutes_watched.quantile(.99)\n",
    "df3_99_quantile"
   ]
  },
  {
   "cell_type": "code",
   "execution_count": 21,
   "id": "36d052fe-7c40-4397-a02d-8956e2d3d7a3",
   "metadata": {},
   "outputs": [
    {
     "data": {
      "text/plain": [
       "2505.3450000000003"
      ]
     },
     "execution_count": 21,
     "metadata": {},
     "output_type": "execute_result"
    }
   ],
   "source": [
    "df4_99_quantile = df4.minutes_watched.quantile(.99)\n",
    "df4_99_quantile"
   ]
  },
  {
   "cell_type": "markdown",
   "id": "ef4433b6-edea-4453-a5d9-f650657c5997",
   "metadata": {
    "jp-MarkdownHeadingCollapsed": true
   },
   "source": [
    "#### Removing outliers"
   ]
  },
  {
   "cell_type": "code",
   "execution_count": 23,
   "id": "172078f3-7b99-4b7c-81fa-095873a87c85",
   "metadata": {},
   "outputs": [],
   "source": [
    "df1 = df1[df1['minutes_watched']<df1_99_quantile]\n",
    "df2 = df2[df2['minutes_watched']<df2_99_quantile]\n",
    "df3 = df3[df3['minutes_watched']<df3_99_quantile]\n",
    "df4 = df4[df4['minutes_watched']<df4_99_quantile]"
   ]
  },
  {
   "cell_type": "code",
   "execution_count": 24,
   "id": "6f8830b7-2699-4067-8d70-22ad6e09e2d6",
   "metadata": {},
   "outputs": [
    {
     "data": {
      "text/html": [
       "<div>\n",
       "<style scoped>\n",
       "    .dataframe tbody tr th:only-of-type {\n",
       "        vertical-align: middle;\n",
       "    }\n",
       "\n",
       "    .dataframe tbody tr th {\n",
       "        vertical-align: top;\n",
       "    }\n",
       "\n",
       "    .dataframe thead th {\n",
       "        text-align: right;\n",
       "    }\n",
       "</style>\n",
       "<table border=\"1\" class=\"dataframe\">\n",
       "  <thead>\n",
       "    <tr style=\"text-align: right;\">\n",
       "      <th></th>\n",
       "      <th>student_id</th>\n",
       "      <th>minutes_watched</th>\n",
       "      <th>paid_in_q2_2021</th>\n",
       "    </tr>\n",
       "  </thead>\n",
       "  <tbody>\n",
       "    <tr>\n",
       "      <th>0</th>\n",
       "      <td>767</td>\n",
       "      <td>0.05</td>\n",
       "      <td>0</td>\n",
       "    </tr>\n",
       "    <tr>\n",
       "      <th>1</th>\n",
       "      <td>902</td>\n",
       "      <td>34.62</td>\n",
       "      <td>0</td>\n",
       "    </tr>\n",
       "    <tr>\n",
       "      <th>2</th>\n",
       "      <td>1067</td>\n",
       "      <td>0.27</td>\n",
       "      <td>0</td>\n",
       "    </tr>\n",
       "    <tr>\n",
       "      <th>3</th>\n",
       "      <td>1151</td>\n",
       "      <td>122.35</td>\n",
       "      <td>0</td>\n",
       "    </tr>\n",
       "    <tr>\n",
       "      <th>4</th>\n",
       "      <td>1395</td>\n",
       "      <td>133.52</td>\n",
       "      <td>0</td>\n",
       "    </tr>\n",
       "    <tr>\n",
       "      <th>...</th>\n",
       "      <td>...</td>\n",
       "      <td>...</td>\n",
       "      <td>...</td>\n",
       "    </tr>\n",
       "    <tr>\n",
       "      <th>5329</th>\n",
       "      <td>158745</td>\n",
       "      <td>0.15</td>\n",
       "      <td>0</td>\n",
       "    </tr>\n",
       "    <tr>\n",
       "      <th>5330</th>\n",
       "      <td>158749</td>\n",
       "      <td>10.95</td>\n",
       "      <td>0</td>\n",
       "    </tr>\n",
       "    <tr>\n",
       "      <th>5331</th>\n",
       "      <td>158750</td>\n",
       "      <td>0.37</td>\n",
       "      <td>0</td>\n",
       "    </tr>\n",
       "    <tr>\n",
       "      <th>5332</th>\n",
       "      <td>158754</td>\n",
       "      <td>5.47</td>\n",
       "      <td>0</td>\n",
       "    </tr>\n",
       "    <tr>\n",
       "      <th>5333</th>\n",
       "      <td>158762</td>\n",
       "      <td>0.05</td>\n",
       "      <td>0</td>\n",
       "    </tr>\n",
       "  </tbody>\n",
       "</table>\n",
       "<p>5280 rows × 3 columns</p>\n",
       "</div>"
      ],
      "text/plain": [
       "      student_id  minutes_watched  paid_in_q2_2021\n",
       "0            767             0.05                0\n",
       "1            902            34.62                0\n",
       "2           1067             0.27                0\n",
       "3           1151           122.35                0\n",
       "4           1395           133.52                0\n",
       "...          ...              ...              ...\n",
       "5329      158745             0.15                0\n",
       "5330      158749            10.95                0\n",
       "5331      158750             0.37                0\n",
       "5332      158754             5.47                0\n",
       "5333      158762             0.05                0\n",
       "\n",
       "[5280 rows x 3 columns]"
      ]
     },
     "execution_count": 24,
     "metadata": {},
     "output_type": "execute_result"
    }
   ],
   "source": [
    "df1"
   ]
  },
  {
   "cell_type": "code",
   "execution_count": 25,
   "id": "fd70bffe-6fbe-4895-8ab3-82a424576197",
   "metadata": {},
   "outputs": [
    {
     "data": {
      "text/html": [
       "<div>\n",
       "<style scoped>\n",
       "    .dataframe tbody tr th:only-of-type {\n",
       "        vertical-align: middle;\n",
       "    }\n",
       "\n",
       "    .dataframe tbody tr th {\n",
       "        vertical-align: top;\n",
       "    }\n",
       "\n",
       "    .dataframe thead th {\n",
       "        text-align: right;\n",
       "    }\n",
       "</style>\n",
       "<table border=\"1\" class=\"dataframe\">\n",
       "  <thead>\n",
       "    <tr style=\"text-align: right;\">\n",
       "      <th></th>\n",
       "      <th>student_id</th>\n",
       "      <th>minutes_watched</th>\n",
       "      <th>paid_in_q2_2022</th>\n",
       "    </tr>\n",
       "  </thead>\n",
       "  <tbody>\n",
       "    <tr>\n",
       "      <th>0</th>\n",
       "      <td>389</td>\n",
       "      <td>0.15</td>\n",
       "      <td>0</td>\n",
       "    </tr>\n",
       "    <tr>\n",
       "      <th>1</th>\n",
       "      <td>666</td>\n",
       "      <td>2.83</td>\n",
       "      <td>0</td>\n",
       "    </tr>\n",
       "    <tr>\n",
       "      <th>3</th>\n",
       "      <td>875</td>\n",
       "      <td>46.77</td>\n",
       "      <td>0</td>\n",
       "    </tr>\n",
       "    <tr>\n",
       "      <th>4</th>\n",
       "      <td>1357</td>\n",
       "      <td>0.12</td>\n",
       "      <td>0</td>\n",
       "    </tr>\n",
       "    <tr>\n",
       "      <th>5</th>\n",
       "      <td>1373</td>\n",
       "      <td>45.92</td>\n",
       "      <td>0</td>\n",
       "    </tr>\n",
       "    <tr>\n",
       "      <th>...</th>\n",
       "      <td>...</td>\n",
       "      <td>...</td>\n",
       "      <td>...</td>\n",
       "    </tr>\n",
       "    <tr>\n",
       "      <th>6050</th>\n",
       "      <td>279813</td>\n",
       "      <td>0.28</td>\n",
       "      <td>0</td>\n",
       "    </tr>\n",
       "    <tr>\n",
       "      <th>6051</th>\n",
       "      <td>279825</td>\n",
       "      <td>0.25</td>\n",
       "      <td>0</td>\n",
       "    </tr>\n",
       "    <tr>\n",
       "      <th>6052</th>\n",
       "      <td>279852</td>\n",
       "      <td>1.75</td>\n",
       "      <td>0</td>\n",
       "    </tr>\n",
       "    <tr>\n",
       "      <th>6053</th>\n",
       "      <td>279870</td>\n",
       "      <td>0.38</td>\n",
       "      <td>0</td>\n",
       "    </tr>\n",
       "    <tr>\n",
       "      <th>6054</th>\n",
       "      <td>279871</td>\n",
       "      <td>0.12</td>\n",
       "      <td>0</td>\n",
       "    </tr>\n",
       "  </tbody>\n",
       "</table>\n",
       "<p>5994 rows × 3 columns</p>\n",
       "</div>"
      ],
      "text/plain": [
       "      student_id  minutes_watched  paid_in_q2_2022\n",
       "0            389             0.15                0\n",
       "1            666             2.83                0\n",
       "3            875            46.77                0\n",
       "4           1357             0.12                0\n",
       "5           1373            45.92                0\n",
       "...          ...              ...              ...\n",
       "6050      279813             0.28                0\n",
       "6051      279825             0.25                0\n",
       "6052      279852             1.75                0\n",
       "6053      279870             0.38                0\n",
       "6054      279871             0.12                0\n",
       "\n",
       "[5994 rows x 3 columns]"
      ]
     },
     "execution_count": 25,
     "metadata": {},
     "output_type": "execute_result"
    }
   ],
   "source": [
    "df2"
   ]
  },
  {
   "cell_type": "code",
   "execution_count": 26,
   "id": "7dd6eb92-fad4-4393-9875-953a7c7f01bf",
   "metadata": {},
   "outputs": [
    {
     "data": {
      "text/html": [
       "<div>\n",
       "<style scoped>\n",
       "    .dataframe tbody tr th:only-of-type {\n",
       "        vertical-align: middle;\n",
       "    }\n",
       "\n",
       "    .dataframe tbody tr th {\n",
       "        vertical-align: top;\n",
       "    }\n",
       "\n",
       "    .dataframe thead th {\n",
       "        text-align: right;\n",
       "    }\n",
       "</style>\n",
       "<table border=\"1\" class=\"dataframe\">\n",
       "  <thead>\n",
       "    <tr style=\"text-align: right;\">\n",
       "      <th></th>\n",
       "      <th>student_id</th>\n",
       "      <th>minutes_watched</th>\n",
       "      <th>paid_in_q2_2021</th>\n",
       "    </tr>\n",
       "  </thead>\n",
       "  <tbody>\n",
       "    <tr>\n",
       "      <th>0</th>\n",
       "      <td>6</td>\n",
       "      <td>81.03</td>\n",
       "      <td>1</td>\n",
       "    </tr>\n",
       "    <tr>\n",
       "      <th>1</th>\n",
       "      <td>516</td>\n",
       "      <td>46.27</td>\n",
       "      <td>1</td>\n",
       "    </tr>\n",
       "    <tr>\n",
       "      <th>2</th>\n",
       "      <td>520</td>\n",
       "      <td>91.18</td>\n",
       "      <td>1</td>\n",
       "    </tr>\n",
       "    <tr>\n",
       "      <th>3</th>\n",
       "      <td>523</td>\n",
       "      <td>1322.25</td>\n",
       "      <td>1</td>\n",
       "    </tr>\n",
       "    <tr>\n",
       "      <th>4</th>\n",
       "      <td>594</td>\n",
       "      <td>3.73</td>\n",
       "      <td>1</td>\n",
       "    </tr>\n",
       "    <tr>\n",
       "      <th>...</th>\n",
       "      <td>...</td>\n",
       "      <td>...</td>\n",
       "      <td>...</td>\n",
       "    </tr>\n",
       "    <tr>\n",
       "      <th>2300</th>\n",
       "      <td>158205</td>\n",
       "      <td>275.27</td>\n",
       "      <td>1</td>\n",
       "    </tr>\n",
       "    <tr>\n",
       "      <th>2301</th>\n",
       "      <td>158260</td>\n",
       "      <td>132.95</td>\n",
       "      <td>1</td>\n",
       "    </tr>\n",
       "    <tr>\n",
       "      <th>2302</th>\n",
       "      <td>158413</td>\n",
       "      <td>19.60</td>\n",
       "      <td>1</td>\n",
       "    </tr>\n",
       "    <tr>\n",
       "      <th>2303</th>\n",
       "      <td>158482</td>\n",
       "      <td>0.45</td>\n",
       "      <td>1</td>\n",
       "    </tr>\n",
       "    <tr>\n",
       "      <th>2304</th>\n",
       "      <td>158706</td>\n",
       "      <td>3.02</td>\n",
       "      <td>1</td>\n",
       "    </tr>\n",
       "  </tbody>\n",
       "</table>\n",
       "<p>2281 rows × 3 columns</p>\n",
       "</div>"
      ],
      "text/plain": [
       "      student_id  minutes_watched  paid_in_q2_2021\n",
       "0              6            81.03                1\n",
       "1            516            46.27                1\n",
       "2            520            91.18                1\n",
       "3            523          1322.25                1\n",
       "4            594             3.73                1\n",
       "...          ...              ...              ...\n",
       "2300      158205           275.27                1\n",
       "2301      158260           132.95                1\n",
       "2302      158413            19.60                1\n",
       "2303      158482             0.45                1\n",
       "2304      158706             3.02                1\n",
       "\n",
       "[2281 rows x 3 columns]"
      ]
     },
     "execution_count": 26,
     "metadata": {},
     "output_type": "execute_result"
    }
   ],
   "source": [
    "df3"
   ]
  },
  {
   "cell_type": "code",
   "execution_count": 27,
   "id": "8ede6660-863f-4388-bba8-168594f5ccae",
   "metadata": {},
   "outputs": [
    {
     "data": {
      "text/html": [
       "<div>\n",
       "<style scoped>\n",
       "    .dataframe tbody tr th:only-of-type {\n",
       "        vertical-align: middle;\n",
       "    }\n",
       "\n",
       "    .dataframe tbody tr th {\n",
       "        vertical-align: top;\n",
       "    }\n",
       "\n",
       "    .dataframe thead th {\n",
       "        text-align: right;\n",
       "    }\n",
       "</style>\n",
       "<table border=\"1\" class=\"dataframe\">\n",
       "  <thead>\n",
       "    <tr style=\"text-align: right;\">\n",
       "      <th></th>\n",
       "      <th>student_id</th>\n",
       "      <th>minutes_watched</th>\n",
       "      <th>paid_in_q2_2022</th>\n",
       "    </tr>\n",
       "  </thead>\n",
       "  <tbody>\n",
       "    <tr>\n",
       "      <th>0</th>\n",
       "      <td>6</td>\n",
       "      <td>67.08</td>\n",
       "      <td>1</td>\n",
       "    </tr>\n",
       "    <tr>\n",
       "      <th>1</th>\n",
       "      <td>616</td>\n",
       "      <td>116.02</td>\n",
       "      <td>1</td>\n",
       "    </tr>\n",
       "    <tr>\n",
       "      <th>2</th>\n",
       "      <td>618</td>\n",
       "      <td>238.15</td>\n",
       "      <td>1</td>\n",
       "    </tr>\n",
       "    <tr>\n",
       "      <th>3</th>\n",
       "      <td>699</td>\n",
       "      <td>222.35</td>\n",
       "      <td>1</td>\n",
       "    </tr>\n",
       "    <tr>\n",
       "      <th>4</th>\n",
       "      <td>702</td>\n",
       "      <td>1.60</td>\n",
       "      <td>1</td>\n",
       "    </tr>\n",
       "    <tr>\n",
       "      <th>...</th>\n",
       "      <td>...</td>\n",
       "      <td>...</td>\n",
       "      <td>...</td>\n",
       "    </tr>\n",
       "    <tr>\n",
       "      <th>2781</th>\n",
       "      <td>278995</td>\n",
       "      <td>67.40</td>\n",
       "      <td>1</td>\n",
       "    </tr>\n",
       "    <tr>\n",
       "      <th>2782</th>\n",
       "      <td>279264</td>\n",
       "      <td>202.50</td>\n",
       "      <td>1</td>\n",
       "    </tr>\n",
       "    <tr>\n",
       "      <th>2783</th>\n",
       "      <td>279519</td>\n",
       "      <td>184.20</td>\n",
       "      <td>1</td>\n",
       "    </tr>\n",
       "    <tr>\n",
       "      <th>2784</th>\n",
       "      <td>279625</td>\n",
       "      <td>50.78</td>\n",
       "      <td>1</td>\n",
       "    </tr>\n",
       "    <tr>\n",
       "      <th>2785</th>\n",
       "      <td>279748</td>\n",
       "      <td>30.73</td>\n",
       "      <td>1</td>\n",
       "    </tr>\n",
       "  </tbody>\n",
       "</table>\n",
       "<p>2758 rows × 3 columns</p>\n",
       "</div>"
      ],
      "text/plain": [
       "      student_id  minutes_watched  paid_in_q2_2022\n",
       "0              6            67.08                1\n",
       "1            616           116.02                1\n",
       "2            618           238.15                1\n",
       "3            699           222.35                1\n",
       "4            702             1.60                1\n",
       "...          ...              ...              ...\n",
       "2781      278995            67.40                1\n",
       "2782      279264           202.50                1\n",
       "2783      279519           184.20                1\n",
       "2784      279625            50.78                1\n",
       "2785      279748            30.73                1\n",
       "\n",
       "[2758 rows x 3 columns]"
      ]
     },
     "execution_count": 27,
     "metadata": {},
     "output_type": "execute_result"
    }
   ],
   "source": [
    "df4"
   ]
  },
  {
   "cell_type": "markdown",
   "id": "afc620f3-b142-4de2-a505-86805b885728",
   "metadata": {},
   "source": [
    "#### Visualizing the filtered data"
   ]
  },
  {
   "cell_type": "code",
   "execution_count": 54,
   "id": "886880c7-8918-4412-b76f-4c2b6385d3bc",
   "metadata": {},
   "outputs": [
    {
     "data": {
      "image/png": "[encoded data removed]",
      "text/plain": [
       "<Figure size 1200x800 with 4 Axes>"
      ]
     },
     "metadata": {},
     "output_type": "display_data"
    }
   ],
   "source": [
    "fig,axes = plt.subplots(2,2,figsize=(12,8))\n",
    "\n",
    "sns.kdeplot(df1.minutes_watched,fill=True,ax=axes[0,0])\n",
    "axes[0,0].set_title('Free-Plan Students for Q2 2021 (no outliers)')\n",
    "\n",
    "sns.kdeplot(df2.minutes_watched,fill=True,ax=axes[0,1])\n",
    "axes[0,1].set_title('Free-Plan Students for Q2 2022 (no outliers)')\n",
    "\n",
    "sns.kdeplot(df3.minutes_watched,fill=True,ax=axes[1,0])\n",
    "axes[1,0].set_title('Paying Students for Q2 2021 (no outliers)')\n",
    "\n",
    "sns.kdeplot(df4.minutes_watched,fill=True,ax=axes[1,1])\n",
    "axes[1,1].set_title('Paying Students for Q2 2022 (no outliers)')\n",
    "\n",
    "plt.tight_layout()\n",
    "plt.show()"
   ]
  },
  {
   "cell_type": "markdown",
   "id": "793fc5a3-8eb5-4748-8e8b-e2ec53656e64",
   "metadata": {},
   "source": [
    "#### Saving the data to CSV files"
   ]
  },
  {
   "cell_type": "code",
   "execution_count": 57,
   "id": "25a10fbc-d105-43a8-b777-d90c7023f35d",
   "metadata": {},
   "outputs": [],
   "source": [
    "df1.to_csv('minutes_watched_2021_paid_0_no_outliers.csv',index=False)\n",
    "df2.to_csv('minutes_watched_2022_paid_0_no_outliers.csv',index=False)\n",
    "df3.to_csv('minutes_watched_2021_paid_1_no_outliers.csv',index=False)\n",
    "df4.to_csv('minutes_watched_2022_paid_1_no_outliers.csv',index=False)"
   ]
  },
  {
   "cell_type": "code",
   "execution_count": null,
   "id": "18d276dc-bdcf-47a3-8f98-c6685a5bea0a",
   "metadata": {},
   "outputs": [],
   "source": []
  }
 ],
 "metadata": {
  "kernelspec": {
   "display_name": "Python 3 (ipykernel)",
   "language": "python",
   "name": "python3"
  },
  "language_info": {
   "codemirror_mode": {
    "name": "ipython",
    "version": 3
   },
   "file_extension": ".py",
   "mimetype": "text/x-python",
   "name": "python",
   "nbconvert_exporter": "python",
   "pygments_lexer": "ipython3",
   "version": "3.12.3"
  }
 },
 "nbformat": 4,
 "nbformat_minor": 5
}
